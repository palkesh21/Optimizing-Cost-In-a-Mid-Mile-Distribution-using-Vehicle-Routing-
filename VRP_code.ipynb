{
  "nbformat": 4,
  "nbformat_minor": 0,
  "metadata": {
    "colab": {
      "name": "VRP_code.ipynb",
      "provenance": [],
      "collapsed_sections": []
    },
    "kernelspec": {
      "name": "python3",
      "display_name": "Python 3"
    },
    "language_info": {
      "name": "python"
    }
  },
  "cells": [
    {
      "cell_type": "code",
      "metadata": {
        "id": "WlOc514DfHMT"
      },
      "source": [
        "import numpy as np\n",
        "import math\n",
        "import pandas as pd\n",
        "from datetime import datetime, timedelta, date\n",
        "from IPython.display import clear_output\n",
        "import matplotlib.pyplot as plt"
      ],
      "execution_count": 1,
      "outputs": []
    },
    {
      "cell_type": "code",
      "metadata": {
        "colab": {
          "base_uri": "https://localhost:8080/"
        },
        "id": "VkDdZpXafHy4",
        "outputId": "311b30a8-222f-44b8-8069-ce1e8e7ddfa4"
      },
      "source": [
        "# [Truck Name, Truck capacity in Tonns, A , n]\n",
        "\n",
        "Truck_list = [[\"A_14_Feet_truck\", 3, 251.45, 0],\n",
        "              [\"B_17_Feet_truck\", 4, 292.94, 0],\n",
        "              [\"C_19_Feet_truck\", 7, 382.15, 0],\n",
        "              [\"D_22_Feet_truck\", 15, 668.39, 0]]\n",
        "\n",
        "#Sorting truck in decending order of capacity for easy allocation logic\n",
        "\n",
        "sorter_guide = []\n",
        "max_truck_capacity = 0\n",
        "for i in range(len(Truck_list)):\n",
        "    sorter_guide.append([i,int(Truck_list[i][1])])\n",
        "    if int(Truck_list[i][1])>=max_truck_capacity:\n",
        "        max_truck_capacity = int(Truck_list[i][1])\n",
        "sorter_guide = np.array(sorter_guide)\n",
        "sorter_guide = sorter_guide[sorter_guide[:,1].argsort()[::-1]]\n",
        "sorter_temp = []\n",
        "for i in range(len(sorter_guide)):\n",
        "    sorter_temp.append(Truck_list[sorter_guide[i][0]])\n",
        "Truck_list = np.array(sorter_temp)   \n",
        "\n",
        "print('\\n',\"max_truck_capacity =\",max_truck_capacity,'\\n')\n",
        "Truck_list"
      ],
      "execution_count": 2,
      "outputs": [
        {
          "output_type": "stream",
          "name": "stdout",
          "text": [
            "\n",
            " max_truck_capacity = 15 \n",
            "\n"
          ]
        },
        {
          "output_type": "execute_result",
          "data": {
            "text/plain": [
              "array([['D_22_Feet_truck', '15', '668.39', '0'],\n",
              "       ['C_19_Feet_truck', '7', '382.15', '0'],\n",
              "       ['B_17_Feet_truck', '4', '292.94', '0'],\n",
              "       ['A_14_Feet_truck', '3', '251.45', '0']], dtype='<U32')"
            ]
          },
          "metadata": {},
          "execution_count": 2
        }
      ]
    },
    {
      "cell_type": "code",
      "metadata": {
        "id": "0Ps9e_E3fJp3"
      },
      "source": [
        "from math import sin, cos, sqrt, atan2, radians\n",
        "\n",
        "def Distance_calculator(lat1,lon1,lat2,lon2):\n",
        "    # approximate radius of earth in km\n",
        "    R = 6373.0\n",
        "\n",
        "    lat1 = radians(lat1)\n",
        "    lon1 = radians(lon1)\n",
        "    lat2 = radians(lat2)\n",
        "    lon2 = radians(lon2)\n",
        "\n",
        "    dlon = lon2 - lon1\n",
        "    dlat = lat2 - lat1\n",
        "\n",
        "    a = sin(dlat / 2)**2 + cos(lat1) * cos(lat2) * sin(dlon / 2)**2\n",
        "    c = 2 * atan2(sqrt(a), sqrt(1 - a))\n",
        "\n",
        "    distance = R * c\n",
        "\n",
        "    #print(\"Result:\", distance)\n",
        "    #print(\"Should be:\", 278.546, \"km\")\n",
        "    \n",
        "    return distance"
      ],
      "execution_count": 3,
      "outputs": []
    },
    {
      "cell_type": "code",
      "metadata": {
        "id": "mMkz7wyZfL1-"
      },
      "source": [
        "def CW_truck_assignment(locations_list,weights_list,vr_status):\n",
        "    \n",
        "    #distance_matrix = [[101.2*(abs(locations_list[i][0]-locations_list[j][0])+abs(locations_list[i][1]-locations_list[j][1])) for i in range(len(locations_list))] for j in range(len(locations_list))]\n",
        "    distance_matrix = [[Distance_calculator(locations_list[i][0],locations_list[i][1],locations_list[j][0],locations_list[i][1]) for i in range(len(locations_list))] for j in range(len(locations_list))]\n",
        "    distance_matrix = np.array(distance_matrix)\n",
        "    #print(distance_matrix)\n",
        "\n",
        "    cw_savings_matrix = [[(distance_matrix[0][i+1]+distance_matrix[0][j+1]-min(distance_matrix[0][i+1],distance_matrix[0][j+1])-distance_matrix[i+1][j+1]) for i in range(len(locations_list)-1)] for j in range(len(locations_list)-1)]\n",
        "    if vr_status == True:\n",
        "        savings_threshold = 0.42\n",
        "    else:\n",
        "        savings_threshold = 0.5\n",
        "\n",
        "    cw_savings_percent_matrix = [[((distance_matrix[0][i+1]+distance_matrix[0][j+1]-min(distance_matrix[0][i+1],distance_matrix[0][j+1])-distance_matrix[i+1][j+1])/(distance_matrix[0][i+1]+distance_matrix[0][j+1])) for i in range(len(locations_list)-1)] for j in range(len(locations_list)-1)]\n",
        "    \n",
        "    cw_savings_matrix = np.array(cw_savings_matrix)\n",
        "    for i in range(len(cw_savings_matrix)):\n",
        "        cw_savings_matrix[i][i]=0\n",
        "    #print(cw_savings_matrix)\n",
        "    for i in range(len(cw_savings_percent_matrix)):\n",
        "        cw_savings_percent_matrix[i][i]=0\n",
        "    #print(cw_savings_matrix)\n",
        "\n",
        "    cw_savings_list=[]\n",
        "\n",
        "    for i in range(len(cw_savings_matrix)):\n",
        "        j=0\n",
        "        while j<i:\n",
        "            if cw_savings_percent_matrix[i][j]>=savings_threshold:\n",
        "                cw_savings_list.append([i+1,j+1,cw_savings_matrix[i][j]])\n",
        "            j=j+1\n",
        "    cw_savings_list=np.array(cw_savings_list)\n",
        "    \n",
        "    if(len(cw_savings_list)>0):\n",
        "        cw_savings_list=cw_savings_list[cw_savings_list[:,2].argsort()[::-1]]\n",
        "    #print(cw_savings_list)\n",
        "\n",
        "    truck_assignment_cw_savings = []\n",
        "\n",
        "    for i in range(len(cw_savings_list)):\n",
        "        truck_assignment_cw_savings.append([cw_savings_list[i][0],cw_savings_list[i][1],cw_savings_list[i][2],0,0,0])\n",
        "\n",
        "    truck_assignment_cw_savings = np.array(truck_assignment_cw_savings)\n",
        "    #print('\\n',truck_assignment_cw_savings)\n",
        "\n",
        "    truck_assignment_matrix = np.zeros((len(weights_list), len(weights_list)))\n",
        "    truck_assigned_weights = np.zeros((len(weights_list)))\n",
        "    truck_assigned_savings = np.zeros((len(weights_list)))\n",
        "\n",
        "    #print('\\n',truck_assignment_matrix)\n",
        "\n",
        "    truck_count=0\n",
        "\n",
        "    for i in range(len(truck_assignment_cw_savings)):\n",
        "        #print(i)\n",
        "        loc1 = int(truck_assignment_cw_savings[i][0])\n",
        "        loc2 = int(truck_assignment_cw_savings[i][1])\n",
        "        truck_no =0\n",
        "\n",
        "        if truck_assignment_cw_savings[i][3]==0 and truck_assignment_cw_savings[i][4]==0:\n",
        "            #print(i+1,\" both\")\n",
        "            if weights_list[int(loc1-1)]+weights_list[int(loc2-1)]<=max_truck_capacity:\n",
        "                truck_no = truck_count\n",
        "                truck_count = truck_count+1\n",
        "                truck_assignment_matrix[int(loc1-1)][int(truck_no)]=1\n",
        "                truck_assignment_matrix[int(loc2-1)][int(truck_no)]=1\n",
        "                #truck_assigned_weights[int(truck_no)]=weights_list[int(loc1-1)]+weights_list[int(loc2-1)]\n",
        "                truck_assignment_cw_savings[i][3]=1\n",
        "                truck_assignment_cw_savings[i][4]=1\n",
        "                truck_assignment_cw_savings[i][5]=truck_no+1\n",
        "                truck_assigned_savings[int(truck_no)] = truck_assigned_savings[int(truck_no)]+truck_assignment_cw_savings[i][2]\n",
        "\n",
        "                for j in range(len(truck_assignment_cw_savings)):\n",
        "                    if truck_assignment_cw_savings[j][0]==loc1 or truck_assignment_cw_savings[j][1]==loc1:\n",
        "                        if truck_assignment_cw_savings[j][0]==loc1:\n",
        "                            truck_assignment_cw_savings[j][3]=1\n",
        "                            truck_assignment_cw_savings[j][5]=truck_no+1\n",
        "                        else:\n",
        "                            truck_assignment_cw_savings[j][4]=1\n",
        "                            truck_assignment_cw_savings[j][5]=truck_no+1\n",
        "\n",
        "                    if truck_assignment_cw_savings[j][0]==loc2 or truck_assignment_cw_savings[j][1]==loc2:\n",
        "                        if truck_assignment_cw_savings[j][0]==loc2:\n",
        "                            truck_assignment_cw_savings[j][3]=1\n",
        "                            truck_assignment_cw_savings[j][5]=truck_no+1\n",
        "                        else:\n",
        "                            truck_assignment_cw_savings[j][4]=1\n",
        "                            truck_assignment_cw_savings[j][5]=truck_no+1\n",
        "\n",
        "        elif truck_assignment_cw_savings[i][3]==1 and truck_assignment_cw_savings[i][4]==1:\n",
        "            null=0\n",
        "        elif truck_assignment_cw_savings[i][3]+truck_assignment_cw_savings[i][4]==1:\n",
        "            #print(i+1,\" only1\")\n",
        "            #print('\\n',truck_assignment_cw_savings,'\\n')\n",
        "            truck_no = truck_assignment_cw_savings[i][5]-1\n",
        "\n",
        "            if truck_assignment_cw_savings[i][3]==0:\n",
        "                loc1 = truck_assignment_cw_savings[i][0]\n",
        "            else:\n",
        "                loc1 = truck_assignment_cw_savings[i][1]\n",
        "\n",
        "\n",
        "            if truck_assigned_weights[int(truck_no)]+weights_list[int(loc1-1)]<=max_truck_capacity:\n",
        "                #print(\"test sucess at:\",i+1)\n",
        "                truck_assignment_matrix[int(loc1-1)][int(truck_no)]=1\n",
        "                #truck_assigned_weights[int(truck_no)]=truck_assigned_weights[int(truck_no)]+weights_list[int(loc1-1)]\n",
        "                truck_assignment_cw_savings[i][3]=1\n",
        "                truck_assignment_cw_savings[i][4]=1\n",
        "                truck_assigned_savings[int(truck_no)] = truck_assigned_savings[int(truck_no)]+truck_assignment_cw_savings[i][2]\n",
        "                for j in range(len(truck_assignment_cw_savings)):\n",
        "                    if truck_assignment_cw_savings[j][0]==loc1 or truck_assignment_cw_savings[j][1]==loc1:\n",
        "                        if truck_assignment_cw_savings[j][0]==loc1:\n",
        "                            truck_assignment_cw_savings[j][3]=1\n",
        "                            truck_assignment_cw_savings[j][5]=truck_no+1\n",
        "                        else:\n",
        "                            truck_assignment_cw_savings[j][4]=1\n",
        "                            truck_assignment_cw_savings[j][5]=truck_no+1\n",
        "\n",
        "        for i in range(truck_count):\n",
        "            current_wt = 0\n",
        "            for j in range(len(weights_list)):\n",
        "                current_wt = current_wt+truck_assignment_matrix[j][i]*weights_list[j]\n",
        "            truck_assigned_weights[i]=current_wt\n",
        "    \n",
        "    dummy_no = 0\n",
        "    for i in range(len(truck_assignment_matrix)):\n",
        "        assigned = 0\n",
        "        for j in range(len(weights_list)):\n",
        "            assigned = assigned + truck_assignment_matrix[i][j]\n",
        "        if assigned == 1:\n",
        "            #print(\"Location no:\",i+1,\"has been already assigned by CW savings\")\n",
        "            dummy_no =+ 1\n",
        "        elif assigned >1:\n",
        "            #print(\"Location no:\",i+1,\"some error has occurred\")\n",
        "            dummy_no =+ 1\n",
        "        elif assigned ==0:\n",
        "            #print(\"Location no:\",i+1,\"has not been assigned yet by CW savings\")\n",
        "            truck_assignment_matrix[i][int(truck_count)]=1\n",
        "            truck_count=truck_count+1\n",
        "\n",
        "    for i in range(truck_count):\n",
        "        current_wt = 0\n",
        "        for j in range(len(weights_list)):\n",
        "            current_wt = current_wt+truck_assignment_matrix[j][i]*weights_list[j]\n",
        "        truck_assigned_weights[i]=current_wt\n",
        "\n",
        "\n",
        "    truck_assigned_distances = np.zeros((len(weights_list)))\n",
        "\n",
        "    for i in range(len(truck_assigned_distances)):\n",
        "        for j in range(len(truck_assignment_matrix)):\n",
        "            if truck_assignment_matrix[j][i]==1:\n",
        "                truck_assigned_distances[i]=truck_assigned_distances[i]+distance_matrix[j+1][0]\n",
        "        truck_assigned_distances[i]=truck_assigned_distances[i]-truck_assigned_savings[i]\n",
        "\n",
        "    #print(2*'\\n',np.array(distance_matrix))\n",
        "    #print(2*'\\n',np.array(cw_savings_matrix))  \n",
        "    #print(2*'\\n',np.array(cw_savings_list))\n",
        "\n",
        "    #print('\\n',\"Assignment matrix:\",'\\n',truck_assignment_matrix,2*'\\n',\"Number of trucks:\",truck_count,2*'\\n',\"Truck weight matrix:\",truck_assigned_weights,2*'\\n',\"Truck savings:\",truck_assigned_savings,2*'\\n',\"Truck Distances:\",truck_assigned_distances)\n",
        "\n",
        "    truck_assigned_type = np.zeros((len(weights_list)))\n",
        "\n",
        "    for i in range(len(truck_assigned_distances)):\n",
        "        for j in range(len(Truck_list)):\n",
        "            if(truck_assigned_weights[i]>0 and truck_assigned_weights[i]<=int(Truck_list[j][1])):\n",
        "                truck_assigned_type[i] = j+1\n",
        "    \n",
        "    truck_type_counter = []\n",
        "    \n",
        "    for p in range(len(Truck_list)):\n",
        "        count = 0\n",
        "        for j in range(len(truck_assigned_type)):\n",
        "            if truck_assigned_type[j] == p+1:\n",
        "                count = count +1\n",
        "        truck_type_counter.append(count)\n",
        "\n",
        "    truck_costs = np.zeros((len(weights_list)))\n",
        "\n",
        "    for i in range(len(truck_costs)):\n",
        "        if truck_assigned_type[i]>0 and truck_assigned_distances[i]>0:\n",
        "            k=int(truck_assigned_type[i]-1)\n",
        "            truck_costs[i]=round(float(truck_assigned_distances[i])*float(Truck_list[k][2])*(float(truck_assigned_distances[i])**(float(Truck_list[k][3])*-1)),1)\n",
        "\n",
        "    #print('\\n',\"Truck costs:\",truck_costs)\n",
        "    \n",
        "    #print(cw_savings_percent_matrix[0])\n",
        "    return(sum(truck_costs),truck_count,truck_type_counter)"
      ],
      "execution_count": 4,
      "outputs": []
    },
    {
      "cell_type": "code",
      "metadata": {
        "colab": {
          "base_uri": "https://localhost:8080/",
          "height": 580
        },
        "id": "0Av-tt6pfNvX",
        "outputId": "b4b178af-cf40-497a-bdab-0dbcd2cea1e6"
      },
      "source": [
        "shipmentsdata = pd.DataFrame(pd.read_excel(\"/content/data_new.xlsx\"))\n",
        "\n",
        "print(shipmentsdata.describe())\n",
        "shipmentsdata"
      ],
      "execution_count": 6,
      "outputs": [
        {
          "output_type": "stream",
          "name": "stdout",
          "text": [
            "         Unnamed: 0      Latitude     Longitude        Weight\n",
            "count  10909.000000  10909.000000  10909.000000  10909.000000\n",
            "mean    5454.000000     21.433791     78.261483      7.345943\n",
            "std     3149.301378      5.596902      4.829720      3.634435\n",
            "min        0.000000      8.170000     69.810000      3.200018\n",
            "25%     2727.000000     17.975600     74.550000      5.619656\n",
            "50%     5454.000000     22.249200     77.333300      6.273962\n",
            "75%     8181.000000     26.472500     80.275000      6.960793\n",
            "max    10908.000000     34.400000     93.950000     14.998702\n"
          ]
        },
        {
          "output_type": "execute_result",
          "data": {
            "text/plain": [
              "       Unnamed: 0        Date       City  Latitude  Longitude     Weight\n",
              "0               0  01-12-2019    Kolkata   22.5411    88.3378  12.150213\n",
              "1               1  01-12-2019  Chinchvad   18.6278    73.8131   6.802622\n",
              "2               2  01-12-2019   Mirzapur   25.1500    82.5800  12.919695\n",
              "3               3  01-12-2019  Ahmadabad   23.0300    72.5800  13.933142\n",
              "4               4  01-12-2019   Raurkela   22.2492    84.8828   3.844208\n",
              "...           ...         ...        ...       ...        ...        ...\n",
              "10904       10904  31-12-2019     Jaipur   26.9167    75.8667   6.912116\n",
              "10905       10905  31-12-2019    Chennai   13.0825    80.2750   6.228235\n",
              "10906       10906  31-12-2019  Mangalore   12.8703    74.8806   6.090875\n",
              "10907       10907  31-12-2019  Bangalore   12.9699    77.5980   6.085653\n",
              "10908       10908  31-12-2019      Surat   21.1700    72.8300   5.953941\n",
              "\n",
              "[10909 rows x 6 columns]"
            ],
            "text/html": [
              "\n",
              "  <div id=\"df-d09548bd-5eaf-4ad3-baf3-a98291d462f5\">\n",
              "    <div class=\"colab-df-container\">\n",
              "      <div>\n",
              "<style scoped>\n",
              "    .dataframe tbody tr th:only-of-type {\n",
              "        vertical-align: middle;\n",
              "    }\n",
              "\n",
              "    .dataframe tbody tr th {\n",
              "        vertical-align: top;\n",
              "    }\n",
              "\n",
              "    .dataframe thead th {\n",
              "        text-align: right;\n",
              "    }\n",
              "</style>\n",
              "<table border=\"1\" class=\"dataframe\">\n",
              "  <thead>\n",
              "    <tr style=\"text-align: right;\">\n",
              "      <th></th>\n",
              "      <th>Unnamed: 0</th>\n",
              "      <th>Date</th>\n",
              "      <th>City</th>\n",
              "      <th>Latitude</th>\n",
              "      <th>Longitude</th>\n",
              "      <th>Weight</th>\n",
              "    </tr>\n",
              "  </thead>\n",
              "  <tbody>\n",
              "    <tr>\n",
              "      <th>0</th>\n",
              "      <td>0</td>\n",
              "      <td>01-12-2019</td>\n",
              "      <td>Kolkata</td>\n",
              "      <td>22.5411</td>\n",
              "      <td>88.3378</td>\n",
              "      <td>12.150213</td>\n",
              "    </tr>\n",
              "    <tr>\n",
              "      <th>1</th>\n",
              "      <td>1</td>\n",
              "      <td>01-12-2019</td>\n",
              "      <td>Chinchvad</td>\n",
              "      <td>18.6278</td>\n",
              "      <td>73.8131</td>\n",
              "      <td>6.802622</td>\n",
              "    </tr>\n",
              "    <tr>\n",
              "      <th>2</th>\n",
              "      <td>2</td>\n",
              "      <td>01-12-2019</td>\n",
              "      <td>Mirzapur</td>\n",
              "      <td>25.1500</td>\n",
              "      <td>82.5800</td>\n",
              "      <td>12.919695</td>\n",
              "    </tr>\n",
              "    <tr>\n",
              "      <th>3</th>\n",
              "      <td>3</td>\n",
              "      <td>01-12-2019</td>\n",
              "      <td>Ahmadabad</td>\n",
              "      <td>23.0300</td>\n",
              "      <td>72.5800</td>\n",
              "      <td>13.933142</td>\n",
              "    </tr>\n",
              "    <tr>\n",
              "      <th>4</th>\n",
              "      <td>4</td>\n",
              "      <td>01-12-2019</td>\n",
              "      <td>Raurkela</td>\n",
              "      <td>22.2492</td>\n",
              "      <td>84.8828</td>\n",
              "      <td>3.844208</td>\n",
              "    </tr>\n",
              "    <tr>\n",
              "      <th>...</th>\n",
              "      <td>...</td>\n",
              "      <td>...</td>\n",
              "      <td>...</td>\n",
              "      <td>...</td>\n",
              "      <td>...</td>\n",
              "      <td>...</td>\n",
              "    </tr>\n",
              "    <tr>\n",
              "      <th>10904</th>\n",
              "      <td>10904</td>\n",
              "      <td>31-12-2019</td>\n",
              "      <td>Jaipur</td>\n",
              "      <td>26.9167</td>\n",
              "      <td>75.8667</td>\n",
              "      <td>6.912116</td>\n",
              "    </tr>\n",
              "    <tr>\n",
              "      <th>10905</th>\n",
              "      <td>10905</td>\n",
              "      <td>31-12-2019</td>\n",
              "      <td>Chennai</td>\n",
              "      <td>13.0825</td>\n",
              "      <td>80.2750</td>\n",
              "      <td>6.228235</td>\n",
              "    </tr>\n",
              "    <tr>\n",
              "      <th>10906</th>\n",
              "      <td>10906</td>\n",
              "      <td>31-12-2019</td>\n",
              "      <td>Mangalore</td>\n",
              "      <td>12.8703</td>\n",
              "      <td>74.8806</td>\n",
              "      <td>6.090875</td>\n",
              "    </tr>\n",
              "    <tr>\n",
              "      <th>10907</th>\n",
              "      <td>10907</td>\n",
              "      <td>31-12-2019</td>\n",
              "      <td>Bangalore</td>\n",
              "      <td>12.9699</td>\n",
              "      <td>77.5980</td>\n",
              "      <td>6.085653</td>\n",
              "    </tr>\n",
              "    <tr>\n",
              "      <th>10908</th>\n",
              "      <td>10908</td>\n",
              "      <td>31-12-2019</td>\n",
              "      <td>Surat</td>\n",
              "      <td>21.1700</td>\n",
              "      <td>72.8300</td>\n",
              "      <td>5.953941</td>\n",
              "    </tr>\n",
              "  </tbody>\n",
              "</table>\n",
              "<p>10909 rows × 6 columns</p>\n",
              "</div>\n",
              "      <button class=\"colab-df-convert\" onclick=\"convertToInteractive('df-d09548bd-5eaf-4ad3-baf3-a98291d462f5')\"\n",
              "              title=\"Convert this dataframe to an interactive table.\"\n",
              "              style=\"display:none;\">\n",
              "        \n",
              "  <svg xmlns=\"http://www.w3.org/2000/svg\" height=\"24px\"viewBox=\"0 0 24 24\"\n",
              "       width=\"24px\">\n",
              "    <path d=\"M0 0h24v24H0V0z\" fill=\"none\"/>\n",
              "    <path d=\"M18.56 5.44l.94 2.06.94-2.06 2.06-.94-2.06-.94-.94-2.06-.94 2.06-2.06.94zm-11 1L8.5 8.5l.94-2.06 2.06-.94-2.06-.94L8.5 2.5l-.94 2.06-2.06.94zm10 10l.94 2.06.94-2.06 2.06-.94-2.06-.94-.94-2.06-.94 2.06-2.06.94z\"/><path d=\"M17.41 7.96l-1.37-1.37c-.4-.4-.92-.59-1.43-.59-.52 0-1.04.2-1.43.59L10.3 9.45l-7.72 7.72c-.78.78-.78 2.05 0 2.83L4 21.41c.39.39.9.59 1.41.59.51 0 1.02-.2 1.41-.59l7.78-7.78 2.81-2.81c.8-.78.8-2.07 0-2.86zM5.41 20L4 18.59l7.72-7.72 1.47 1.35L5.41 20z\"/>\n",
              "  </svg>\n",
              "      </button>\n",
              "      \n",
              "  <style>\n",
              "    .colab-df-container {\n",
              "      display:flex;\n",
              "      flex-wrap:wrap;\n",
              "      gap: 12px;\n",
              "    }\n",
              "\n",
              "    .colab-df-convert {\n",
              "      background-color: #E8F0FE;\n",
              "      border: none;\n",
              "      border-radius: 50%;\n",
              "      cursor: pointer;\n",
              "      display: none;\n",
              "      fill: #1967D2;\n",
              "      height: 32px;\n",
              "      padding: 0 0 0 0;\n",
              "      width: 32px;\n",
              "    }\n",
              "\n",
              "    .colab-df-convert:hover {\n",
              "      background-color: #E2EBFA;\n",
              "      box-shadow: 0px 1px 2px rgba(60, 64, 67, 0.3), 0px 1px 3px 1px rgba(60, 64, 67, 0.15);\n",
              "      fill: #174EA6;\n",
              "    }\n",
              "\n",
              "    [theme=dark] .colab-df-convert {\n",
              "      background-color: #3B4455;\n",
              "      fill: #D2E3FC;\n",
              "    }\n",
              "\n",
              "    [theme=dark] .colab-df-convert:hover {\n",
              "      background-color: #434B5C;\n",
              "      box-shadow: 0px 1px 3px 1px rgba(0, 0, 0, 0.15);\n",
              "      filter: drop-shadow(0px 1px 2px rgba(0, 0, 0, 0.3));\n",
              "      fill: #FFFFFF;\n",
              "    }\n",
              "  </style>\n",
              "\n",
              "      <script>\n",
              "        const buttonEl =\n",
              "          document.querySelector('#df-d09548bd-5eaf-4ad3-baf3-a98291d462f5 button.colab-df-convert');\n",
              "        buttonEl.style.display =\n",
              "          google.colab.kernel.accessAllowed ? 'block' : 'none';\n",
              "\n",
              "        async function convertToInteractive(key) {\n",
              "          const element = document.querySelector('#df-d09548bd-5eaf-4ad3-baf3-a98291d462f5');\n",
              "          const dataTable =\n",
              "            await google.colab.kernel.invokeFunction('convertToInteractive',\n",
              "                                                     [key], {});\n",
              "          if (!dataTable) return;\n",
              "\n",
              "          const docLinkHtml = 'Like what you see? Visit the ' +\n",
              "            '<a target=\"_blank\" href=https://colab.research.google.com/notebooks/data_table.ipynb>data table notebook</a>'\n",
              "            + ' to learn more about interactive tables.';\n",
              "          element.innerHTML = '';\n",
              "          dataTable['output_type'] = 'display_data';\n",
              "          await google.colab.output.renderOutput(dataTable, element);\n",
              "          const docLink = document.createElement('div');\n",
              "          docLink.innerHTML = docLinkHtml;\n",
              "          element.appendChild(docLink);\n",
              "        }\n",
              "      </script>\n",
              "    </div>\n",
              "  </div>\n",
              "  "
            ]
          },
          "metadata": {},
          "execution_count": 6
        }
      ]
    },
    {
      "cell_type": "code",
      "metadata": {
        "id": "0QIc5f1hfZTA"
      },
      "source": [
        "shipmentsdata = shipmentsdata.drop(labels = 'Unnamed: 0', axis = 1)"
      ],
      "execution_count": 7,
      "outputs": []
    },
    {
      "cell_type": "code",
      "metadata": {
        "colab": {
          "base_uri": "https://localhost:8080/",
          "height": 424
        },
        "id": "TNTPZT3EftwP",
        "outputId": "04e3d143-6407-4a3c-c6be-4d8530118173"
      },
      "source": [
        "shipmentsdata"
      ],
      "execution_count": 8,
      "outputs": [
        {
          "output_type": "execute_result",
          "data": {
            "text/plain": [
              "             Date       City  Latitude  Longitude     Weight\n",
              "0      01-12-2019    Kolkata   22.5411    88.3378  12.150213\n",
              "1      01-12-2019  Chinchvad   18.6278    73.8131   6.802622\n",
              "2      01-12-2019   Mirzapur   25.1500    82.5800  12.919695\n",
              "3      01-12-2019  Ahmadabad   23.0300    72.5800  13.933142\n",
              "4      01-12-2019   Raurkela   22.2492    84.8828   3.844208\n",
              "...           ...        ...       ...        ...        ...\n",
              "10904  31-12-2019     Jaipur   26.9167    75.8667   6.912116\n",
              "10905  31-12-2019    Chennai   13.0825    80.2750   6.228235\n",
              "10906  31-12-2019  Mangalore   12.8703    74.8806   6.090875\n",
              "10907  31-12-2019  Bangalore   12.9699    77.5980   6.085653\n",
              "10908  31-12-2019      Surat   21.1700    72.8300   5.953941\n",
              "\n",
              "[10909 rows x 5 columns]"
            ],
            "text/html": [
              "\n",
              "  <div id=\"df-0a2940c2-1e65-48d6-a4a6-ec9030df5cbe\">\n",
              "    <div class=\"colab-df-container\">\n",
              "      <div>\n",
              "<style scoped>\n",
              "    .dataframe tbody tr th:only-of-type {\n",
              "        vertical-align: middle;\n",
              "    }\n",
              "\n",
              "    .dataframe tbody tr th {\n",
              "        vertical-align: top;\n",
              "    }\n",
              "\n",
              "    .dataframe thead th {\n",
              "        text-align: right;\n",
              "    }\n",
              "</style>\n",
              "<table border=\"1\" class=\"dataframe\">\n",
              "  <thead>\n",
              "    <tr style=\"text-align: right;\">\n",
              "      <th></th>\n",
              "      <th>Date</th>\n",
              "      <th>City</th>\n",
              "      <th>Latitude</th>\n",
              "      <th>Longitude</th>\n",
              "      <th>Weight</th>\n",
              "    </tr>\n",
              "  </thead>\n",
              "  <tbody>\n",
              "    <tr>\n",
              "      <th>0</th>\n",
              "      <td>01-12-2019</td>\n",
              "      <td>Kolkata</td>\n",
              "      <td>22.5411</td>\n",
              "      <td>88.3378</td>\n",
              "      <td>12.150213</td>\n",
              "    </tr>\n",
              "    <tr>\n",
              "      <th>1</th>\n",
              "      <td>01-12-2019</td>\n",
              "      <td>Chinchvad</td>\n",
              "      <td>18.6278</td>\n",
              "      <td>73.8131</td>\n",
              "      <td>6.802622</td>\n",
              "    </tr>\n",
              "    <tr>\n",
              "      <th>2</th>\n",
              "      <td>01-12-2019</td>\n",
              "      <td>Mirzapur</td>\n",
              "      <td>25.1500</td>\n",
              "      <td>82.5800</td>\n",
              "      <td>12.919695</td>\n",
              "    </tr>\n",
              "    <tr>\n",
              "      <th>3</th>\n",
              "      <td>01-12-2019</td>\n",
              "      <td>Ahmadabad</td>\n",
              "      <td>23.0300</td>\n",
              "      <td>72.5800</td>\n",
              "      <td>13.933142</td>\n",
              "    </tr>\n",
              "    <tr>\n",
              "      <th>4</th>\n",
              "      <td>01-12-2019</td>\n",
              "      <td>Raurkela</td>\n",
              "      <td>22.2492</td>\n",
              "      <td>84.8828</td>\n",
              "      <td>3.844208</td>\n",
              "    </tr>\n",
              "    <tr>\n",
              "      <th>...</th>\n",
              "      <td>...</td>\n",
              "      <td>...</td>\n",
              "      <td>...</td>\n",
              "      <td>...</td>\n",
              "      <td>...</td>\n",
              "    </tr>\n",
              "    <tr>\n",
              "      <th>10904</th>\n",
              "      <td>31-12-2019</td>\n",
              "      <td>Jaipur</td>\n",
              "      <td>26.9167</td>\n",
              "      <td>75.8667</td>\n",
              "      <td>6.912116</td>\n",
              "    </tr>\n",
              "    <tr>\n",
              "      <th>10905</th>\n",
              "      <td>31-12-2019</td>\n",
              "      <td>Chennai</td>\n",
              "      <td>13.0825</td>\n",
              "      <td>80.2750</td>\n",
              "      <td>6.228235</td>\n",
              "    </tr>\n",
              "    <tr>\n",
              "      <th>10906</th>\n",
              "      <td>31-12-2019</td>\n",
              "      <td>Mangalore</td>\n",
              "      <td>12.8703</td>\n",
              "      <td>74.8806</td>\n",
              "      <td>6.090875</td>\n",
              "    </tr>\n",
              "    <tr>\n",
              "      <th>10907</th>\n",
              "      <td>31-12-2019</td>\n",
              "      <td>Bangalore</td>\n",
              "      <td>12.9699</td>\n",
              "      <td>77.5980</td>\n",
              "      <td>6.085653</td>\n",
              "    </tr>\n",
              "    <tr>\n",
              "      <th>10908</th>\n",
              "      <td>31-12-2019</td>\n",
              "      <td>Surat</td>\n",
              "      <td>21.1700</td>\n",
              "      <td>72.8300</td>\n",
              "      <td>5.953941</td>\n",
              "    </tr>\n",
              "  </tbody>\n",
              "</table>\n",
              "<p>10909 rows × 5 columns</p>\n",
              "</div>\n",
              "      <button class=\"colab-df-convert\" onclick=\"convertToInteractive('df-0a2940c2-1e65-48d6-a4a6-ec9030df5cbe')\"\n",
              "              title=\"Convert this dataframe to an interactive table.\"\n",
              "              style=\"display:none;\">\n",
              "        \n",
              "  <svg xmlns=\"http://www.w3.org/2000/svg\" height=\"24px\"viewBox=\"0 0 24 24\"\n",
              "       width=\"24px\">\n",
              "    <path d=\"M0 0h24v24H0V0z\" fill=\"none\"/>\n",
              "    <path d=\"M18.56 5.44l.94 2.06.94-2.06 2.06-.94-2.06-.94-.94-2.06-.94 2.06-2.06.94zm-11 1L8.5 8.5l.94-2.06 2.06-.94-2.06-.94L8.5 2.5l-.94 2.06-2.06.94zm10 10l.94 2.06.94-2.06 2.06-.94-2.06-.94-.94-2.06-.94 2.06-2.06.94z\"/><path d=\"M17.41 7.96l-1.37-1.37c-.4-.4-.92-.59-1.43-.59-.52 0-1.04.2-1.43.59L10.3 9.45l-7.72 7.72c-.78.78-.78 2.05 0 2.83L4 21.41c.39.39.9.59 1.41.59.51 0 1.02-.2 1.41-.59l7.78-7.78 2.81-2.81c.8-.78.8-2.07 0-2.86zM5.41 20L4 18.59l7.72-7.72 1.47 1.35L5.41 20z\"/>\n",
              "  </svg>\n",
              "      </button>\n",
              "      \n",
              "  <style>\n",
              "    .colab-df-container {\n",
              "      display:flex;\n",
              "      flex-wrap:wrap;\n",
              "      gap: 12px;\n",
              "    }\n",
              "\n",
              "    .colab-df-convert {\n",
              "      background-color: #E8F0FE;\n",
              "      border: none;\n",
              "      border-radius: 50%;\n",
              "      cursor: pointer;\n",
              "      display: none;\n",
              "      fill: #1967D2;\n",
              "      height: 32px;\n",
              "      padding: 0 0 0 0;\n",
              "      width: 32px;\n",
              "    }\n",
              "\n",
              "    .colab-df-convert:hover {\n",
              "      background-color: #E2EBFA;\n",
              "      box-shadow: 0px 1px 2px rgba(60, 64, 67, 0.3), 0px 1px 3px 1px rgba(60, 64, 67, 0.15);\n",
              "      fill: #174EA6;\n",
              "    }\n",
              "\n",
              "    [theme=dark] .colab-df-convert {\n",
              "      background-color: #3B4455;\n",
              "      fill: #D2E3FC;\n",
              "    }\n",
              "\n",
              "    [theme=dark] .colab-df-convert:hover {\n",
              "      background-color: #434B5C;\n",
              "      box-shadow: 0px 1px 3px 1px rgba(0, 0, 0, 0.15);\n",
              "      filter: drop-shadow(0px 1px 2px rgba(0, 0, 0, 0.3));\n",
              "      fill: #FFFFFF;\n",
              "    }\n",
              "  </style>\n",
              "\n",
              "      <script>\n",
              "        const buttonEl =\n",
              "          document.querySelector('#df-0a2940c2-1e65-48d6-a4a6-ec9030df5cbe button.colab-df-convert');\n",
              "        buttonEl.style.display =\n",
              "          google.colab.kernel.accessAllowed ? 'block' : 'none';\n",
              "\n",
              "        async function convertToInteractive(key) {\n",
              "          const element = document.querySelector('#df-0a2940c2-1e65-48d6-a4a6-ec9030df5cbe');\n",
              "          const dataTable =\n",
              "            await google.colab.kernel.invokeFunction('convertToInteractive',\n",
              "                                                     [key], {});\n",
              "          if (!dataTable) return;\n",
              "\n",
              "          const docLinkHtml = 'Like what you see? Visit the ' +\n",
              "            '<a target=\"_blank\" href=https://colab.research.google.com/notebooks/data_table.ipynb>data table notebook</a>'\n",
              "            + ' to learn more about interactive tables.';\n",
              "          element.innerHTML = '';\n",
              "          dataTable['output_type'] = 'display_data';\n",
              "          await google.colab.output.renderOutput(dataTable, element);\n",
              "          const docLink = document.createElement('div');\n",
              "          docLink.innerHTML = docLinkHtml;\n",
              "          element.appendChild(docLink);\n",
              "        }\n",
              "      </script>\n",
              "    </div>\n",
              "  </div>\n",
              "  "
            ]
          },
          "metadata": {},
          "execution_count": 8
        }
      ]
    },
    {
      "cell_type": "code",
      "metadata": {
        "colab": {
          "base_uri": "https://localhost:8080/",
          "height": 1000
        },
        "id": "0tj4Zv0Gfu5m",
        "outputId": "a820248c-28e7-4934-cc0f-7091062c2da9"
      },
      "source": [
        "shipmentsdata['Weight'].hist(bins=20)\n",
        "plt.title('Weight distribution across Shipments')\n",
        "\n",
        "city_display = pd.DataFrame(shipmentsdata.groupby(['City'], as_index=False)['Weight'].sum())\n",
        "city_display.set_index('City',inplace=True)\n",
        "\n",
        "city_display = city_display.sort_values(by='Weight', ascending=False)\n",
        "city_display.head(10).plot(title='Weight distribution across Top 10 cities')\n",
        "plt.xticks(rotation=60, ha='right')\n",
        "\n",
        "\n",
        "\n",
        "city_display"
      ],
      "execution_count": 9,
      "outputs": [
        {
          "output_type": "execute_result",
          "data": {
            "text/plain": [
              "                Weight\n",
              "City                  \n",
              "Delhi      9356.287958\n",
              "Mumbai     7809.035025\n",
              "Kolkata    5722.129724\n",
              "Bangalore  4654.047575\n",
              "Chennai    3878.579830\n",
              "...                ...\n",
              "Handwara     53.631718\n",
              "Ramgundam    52.078320\n",
              "Sambalpur    48.939572\n",
              "Rampur       44.326932\n",
              "Ongole       42.228388\n",
              "\n",
              "[167 rows x 1 columns]"
            ],
            "text/html": [
              "\n",
              "  <div id=\"df-39ab280c-2daf-415b-8172-08dc5cb3f52e\">\n",
              "    <div class=\"colab-df-container\">\n",
              "      <div>\n",
              "<style scoped>\n",
              "    .dataframe tbody tr th:only-of-type {\n",
              "        vertical-align: middle;\n",
              "    }\n",
              "\n",
              "    .dataframe tbody tr th {\n",
              "        vertical-align: top;\n",
              "    }\n",
              "\n",
              "    .dataframe thead th {\n",
              "        text-align: right;\n",
              "    }\n",
              "</style>\n",
              "<table border=\"1\" class=\"dataframe\">\n",
              "  <thead>\n",
              "    <tr style=\"text-align: right;\">\n",
              "      <th></th>\n",
              "      <th>Weight</th>\n",
              "    </tr>\n",
              "    <tr>\n",
              "      <th>City</th>\n",
              "      <th></th>\n",
              "    </tr>\n",
              "  </thead>\n",
              "  <tbody>\n",
              "    <tr>\n",
              "      <th>Delhi</th>\n",
              "      <td>9356.287958</td>\n",
              "    </tr>\n",
              "    <tr>\n",
              "      <th>Mumbai</th>\n",
              "      <td>7809.035025</td>\n",
              "    </tr>\n",
              "    <tr>\n",
              "      <th>Kolkata</th>\n",
              "      <td>5722.129724</td>\n",
              "    </tr>\n",
              "    <tr>\n",
              "      <th>Bangalore</th>\n",
              "      <td>4654.047575</td>\n",
              "    </tr>\n",
              "    <tr>\n",
              "      <th>Chennai</th>\n",
              "      <td>3878.579830</td>\n",
              "    </tr>\n",
              "    <tr>\n",
              "      <th>...</th>\n",
              "      <td>...</td>\n",
              "    </tr>\n",
              "    <tr>\n",
              "      <th>Handwara</th>\n",
              "      <td>53.631718</td>\n",
              "    </tr>\n",
              "    <tr>\n",
              "      <th>Ramgundam</th>\n",
              "      <td>52.078320</td>\n",
              "    </tr>\n",
              "    <tr>\n",
              "      <th>Sambalpur</th>\n",
              "      <td>48.939572</td>\n",
              "    </tr>\n",
              "    <tr>\n",
              "      <th>Rampur</th>\n",
              "      <td>44.326932</td>\n",
              "    </tr>\n",
              "    <tr>\n",
              "      <th>Ongole</th>\n",
              "      <td>42.228388</td>\n",
              "    </tr>\n",
              "  </tbody>\n",
              "</table>\n",
              "<p>167 rows × 1 columns</p>\n",
              "</div>\n",
              "      <button class=\"colab-df-convert\" onclick=\"convertToInteractive('df-39ab280c-2daf-415b-8172-08dc5cb3f52e')\"\n",
              "              title=\"Convert this dataframe to an interactive table.\"\n",
              "              style=\"display:none;\">\n",
              "        \n",
              "  <svg xmlns=\"http://www.w3.org/2000/svg\" height=\"24px\"viewBox=\"0 0 24 24\"\n",
              "       width=\"24px\">\n",
              "    <path d=\"M0 0h24v24H0V0z\" fill=\"none\"/>\n",
              "    <path d=\"M18.56 5.44l.94 2.06.94-2.06 2.06-.94-2.06-.94-.94-2.06-.94 2.06-2.06.94zm-11 1L8.5 8.5l.94-2.06 2.06-.94-2.06-.94L8.5 2.5l-.94 2.06-2.06.94zm10 10l.94 2.06.94-2.06 2.06-.94-2.06-.94-.94-2.06-.94 2.06-2.06.94z\"/><path d=\"M17.41 7.96l-1.37-1.37c-.4-.4-.92-.59-1.43-.59-.52 0-1.04.2-1.43.59L10.3 9.45l-7.72 7.72c-.78.78-.78 2.05 0 2.83L4 21.41c.39.39.9.59 1.41.59.51 0 1.02-.2 1.41-.59l7.78-7.78 2.81-2.81c.8-.78.8-2.07 0-2.86zM5.41 20L4 18.59l7.72-7.72 1.47 1.35L5.41 20z\"/>\n",
              "  </svg>\n",
              "      </button>\n",
              "      \n",
              "  <style>\n",
              "    .colab-df-container {\n",
              "      display:flex;\n",
              "      flex-wrap:wrap;\n",
              "      gap: 12px;\n",
              "    }\n",
              "\n",
              "    .colab-df-convert {\n",
              "      background-color: #E8F0FE;\n",
              "      border: none;\n",
              "      border-radius: 50%;\n",
              "      cursor: pointer;\n",
              "      display: none;\n",
              "      fill: #1967D2;\n",
              "      height: 32px;\n",
              "      padding: 0 0 0 0;\n",
              "      width: 32px;\n",
              "    }\n",
              "\n",
              "    .colab-df-convert:hover {\n",
              "      background-color: #E2EBFA;\n",
              "      box-shadow: 0px 1px 2px rgba(60, 64, 67, 0.3), 0px 1px 3px 1px rgba(60, 64, 67, 0.15);\n",
              "      fill: #174EA6;\n",
              "    }\n",
              "\n",
              "    [theme=dark] .colab-df-convert {\n",
              "      background-color: #3B4455;\n",
              "      fill: #D2E3FC;\n",
              "    }\n",
              "\n",
              "    [theme=dark] .colab-df-convert:hover {\n",
              "      background-color: #434B5C;\n",
              "      box-shadow: 0px 1px 3px 1px rgba(0, 0, 0, 0.15);\n",
              "      filter: drop-shadow(0px 1px 2px rgba(0, 0, 0, 0.3));\n",
              "      fill: #FFFFFF;\n",
              "    }\n",
              "  </style>\n",
              "\n",
              "      <script>\n",
              "        const buttonEl =\n",
              "          document.querySelector('#df-39ab280c-2daf-415b-8172-08dc5cb3f52e button.colab-df-convert');\n",
              "        buttonEl.style.display =\n",
              "          google.colab.kernel.accessAllowed ? 'block' : 'none';\n",
              "\n",
              "        async function convertToInteractive(key) {\n",
              "          const element = document.querySelector('#df-39ab280c-2daf-415b-8172-08dc5cb3f52e');\n",
              "          const dataTable =\n",
              "            await google.colab.kernel.invokeFunction('convertToInteractive',\n",
              "                                                     [key], {});\n",
              "          if (!dataTable) return;\n",
              "\n",
              "          const docLinkHtml = 'Like what you see? Visit the ' +\n",
              "            '<a target=\"_blank\" href=https://colab.research.google.com/notebooks/data_table.ipynb>data table notebook</a>'\n",
              "            + ' to learn more about interactive tables.';\n",
              "          element.innerHTML = '';\n",
              "          dataTable['output_type'] = 'display_data';\n",
              "          await google.colab.output.renderOutput(dataTable, element);\n",
              "          const docLink = document.createElement('div');\n",
              "          docLink.innerHTML = docLinkHtml;\n",
              "          element.appendChild(docLink);\n",
              "        }\n",
              "      </script>\n",
              "    </div>\n",
              "  </div>\n",
              "  "
            ]
          },
          "metadata": {},
          "execution_count": 9
        },
        {
          "output_type": "display_data",
          "data": {
            "text/plain": [
              "<Figure size 432x288 with 1 Axes>"
            ],
            "image/png": "[encoded data removed]"
          },
          "metadata": {
            "needs_background": "light"
          }
        },
        {
          "output_type": "display_data",
          "data": {
            "text/plain": [
              "<Figure size 432x288 with 1 Axes>"
            ],
            "image/png": "[encoded data removed]"
          },
          "metadata": {
            "needs_background": "light"
          }
        }
      ]
    },
    {
      "cell_type": "code",
      "metadata": {
        "id": "xz7GJF8EfxrP",
        "colab": {
          "base_uri": "https://localhost:8080/"
        },
        "outputId": "137233a9-6c16-4b8f-cc7a-34cd2a5142ac"
      },
      "source": [
        "dda = pd.DataFrame(shipmentsdata.groupby(['Date','City','Latitude','Longitude'], as_index=False)['Weight'].sum())\n",
        "shipmentsdata.tail(20)\n",
        "\n",
        "job_status = 0\n",
        "\n",
        "for i in range(len(dda)):\n",
        "    if dda['Weight'][i] > max_truck_capacity:\n",
        "        remainder = dda['Weight'][i]%max_truck_capacity\n",
        "        no_of_splits = int(dda['Weight'][i]/max_truck_capacity - remainder/max_truck_capacity)\n",
        "        #print(dda['Weight'][i],no_of_splits,remainder)\n",
        "        dda['Weight'][i] = remainder\n",
        "        gg = dda[dda.index == i]\n",
        "        gg['Weight'][i]= max_truck_capacity\n",
        "        for j in range(no_of_splits):\n",
        "            dda = dda.append(gg,ignore_index=True)\n",
        "\n",
        "shipmentsdata_new = pd.DataFrame(dda)\n",
        "shipmentsdata_new['Date'] = pd.to_datetime(shipmentsdata_new['Date'], format='%d-%m-%Y')\n",
        "\n",
        "source_Latitude_list = np.array(shipmentsdata['Latitude'])\n",
        "source_Longitude_list = np.array(shipmentsdata['Longitude'])\n",
        "weights_list = np.array(shipmentsdata['Weight'])\n",
        "source_dates = np.array(shipmentsdata['Date'])\n",
        "#print(source_dates)\n",
        "\n",
        "#for i in range(len(source_dates)):\n",
        "#    source_dates[i] = datetime.strptime(source_dates[i],'%d-%m-%Y')\n",
        "#print(source_dates)\n",
        "delta = timedelta(days=1)\n",
        "\n",
        "#print(max(source_dates))\n",
        "#max(source_dates)+ delta\n",
        "\n",
        "no_of_days = int((max(shipmentsdata_new['Date'])-min(shipmentsdata_new['Date'])).days+1)\n",
        "\n",
        "#print(shipmentsdata_new['Date'][3]>=max(source_dates))\n",
        "\n",
        "#len(shipmentsdata_new)"
      ],
      "execution_count": 10,
      "outputs": [
        {
          "output_type": "stream",
          "name": "stderr",
          "text": [
            "/usr/local/lib/python3.7/dist-packages/ipykernel_launcher.py:11: SettingWithCopyWarning: \n",
            "A value is trying to be set on a copy of a slice from a DataFrame\n",
            "\n",
            "See the caveats in the documentation: https://pandas.pydata.org/pandas-docs/stable/user_guide/indexing.html#returning-a-view-versus-a-copy\n",
            "  # This is added back by InteractiveShellApp.init_path()\n",
            "/usr/local/lib/python3.7/dist-packages/ipykernel_launcher.py:13: SettingWithCopyWarning: \n",
            "A value is trying to be set on a copy of a slice from a DataFrame\n",
            "\n",
            "See the caveats in the documentation: https://pandas.pydata.org/pandas-docs/stable/user_guide/indexing.html#returning-a-view-versus-a-copy\n",
            "  del sys.path[0]\n"
          ]
        }
      ]
    },
    {
      "cell_type": "code",
      "metadata": {
        "colab": {
          "base_uri": "https://localhost:8080/",
          "height": 312
        },
        "id": "JV5CdBSEf5e3",
        "outputId": "25ec7f44-daac-44b8-dce2-07515709b2c3"
      },
      "source": [
        "source_coordinates = [19,73]\n",
        "planning_horizon = 1      # Enter the no. of days you want to plan together, only intergers >=1\n",
        "ax = plt.axes()\n",
        "# Setting the background color\n",
        "#ax.set_facecolor(\"grey\")\n",
        "plt.scatter(shipmentsdata_new['Longitude'],shipmentsdata_new['Latitude'] ,marker='o', s = 15, color = 'g')\n",
        "plt.scatter(source_coordinates[1],source_coordinates[0], marker = '^', s = 500, color = 'y')\n",
        "plt.ylabel('Latitude')\n",
        "plt.xlabel('Longitude')\n",
        "plt.title('Each point represents a city')"
      ],
      "execution_count": 11,
      "outputs": [
        {
          "output_type": "execute_result",
          "data": {
            "text/plain": [
              "Text(0.5, 1.0, 'Each point represents a city')"
            ]
          },
          "metadata": {},
          "execution_count": 11
        },
        {
          "output_type": "display_data",
          "data": {
            "text/plain": [
              "<Figure size 432x288 with 1 Axes>"
            ],
            "image/png": "[encoded data removed]"
          },
          "metadata": {
            "needs_background": "light"
          }
        }
      ]
    },
    {
      "cell_type": "code",
      "metadata": {
        "colab": {
          "base_uri": "https://localhost:8080/"
        },
        "id": "WQcrZkBYf0RY",
        "outputId": "6cf80947-6be9-4513-bbb4-d997015c6f90"
      },
      "source": [
        "result_matrix = []\n",
        "truck_type_total_count_VR = []\n",
        "for p in range(len(Truck_list)):\n",
        "    truck_type_total_count_VR.append(0)\n",
        "\n",
        "truck_type_total_count_noVR = []\n",
        "for p in range(len(Truck_list)):\n",
        "    truck_type_total_count_noVR.append(0)\n",
        "\n",
        "truck_type_total_count_VR = np.array(truck_type_total_count_VR)\n",
        "truck_type_total_count_noVR = np.array(truck_type_total_count_noVR)\n",
        "\n",
        "\n",
        "for j in range(0,no_of_days,planning_horizon):\n",
        "    \n",
        "    clear_output(wait=True)\n",
        "    print(\"____Simulation Progress :\",round(100*j/no_of_days,1),\"%\")\n",
        "    weights_temp = []\n",
        "    locations_temp = [[source_coordinates[0],source_coordinates[1]]]\n",
        "    range_start = min(shipmentsdata_new['Date'])+j*delta\n",
        "    range_end = min(shipmentsdata_new['Date'])+(j+planning_horizon)*delta\n",
        "    \n",
        "    rslt_df = shipmentsdata_new[shipmentsdata_new['Date'] >= range_start]\n",
        "    rslt_df = rslt_df[rslt_df['Date'] < range_end]\n",
        "    #print(rslt_df.iloc[0,'Latitude'])\n",
        "    \n",
        "    \n",
        "    for i in range(len(rslt_df)):\n",
        "        locations_temp.append([rslt_df.iloc[i]['Latitude'],rslt_df.iloc[i]['Longitude']])\n",
        "        weights_temp.append(rslt_df.iloc[i]['Weight'])\n",
        "    if len(locations_temp)>1:\n",
        "        result_output_vr = CW_truck_assignment(locations_temp,weights_temp,True)\n",
        "        result_output_no_vr = CW_truck_assignment(locations_temp,weights_temp,False)\n",
        "        result_matrix.append([range_start,result_output_vr[0],result_output_no_vr[0]])\n",
        "        truck_type_total_count_VR = np.add(truck_type_total_count_VR, np.array(result_output_vr[2]))\n",
        "        truck_type_total_count_noVR = np.add(truck_type_total_count_noVR, np.array(result_output_no_vr[2]))\n",
        "    \n",
        "clear_output(wait=True)\n",
        "result_matrix\n",
        "\n",
        "df = pd.DataFrame(result_matrix, columns=['Date', 'Cost_with_VR', 'Cost_with_no_VR'])\n",
        "df = df.set_index('Date')\n",
        "\n",
        "Truck_list_table = pd.DataFrame(Truck_list, columns=['Name','Capacity in Tonne','A','n'])\n",
        "Truck_list_table.drop(['A','n'],1)\n",
        "Truck_list_table['Truck count VR'] = pd.Series(truck_type_total_count_VR)\n",
        "Truck_list_table['Truck count no VR'] = pd.Series(truck_type_total_count_noVR)\n",
        "\n",
        "\n",
        "print(\"___Result :-\",'\\n')\n",
        "print(\"Estimated Cost with no Vehicle Routing:\",round(sum(df['Cost_with_no_VR']),0))\n",
        "print(\"Estimated Cost with Vehicle Routing:\",round(sum(df['Cost_with_VR']),0),'\\n')\n",
        "#print('\\n')\n",
        "print(\"Estimated Cost Savings with Vehicle Routing:\",round((sum(df['Cost_with_no_VR'])-sum(df['Cost_with_VR']))*100/sum(df['Cost_with_no_VR']),1),\"%\",'\\n')\n",
        "print(\"No. of Trucks with no VR:\",sum(Truck_list_table['Truck count no VR']))\n",
        "print(\"No. of Trucks with VR:\",sum(Truck_list_table['Truck count VR']))\n",
        "\n",
        "#df.resample('M').sum().plot().axis([None, None, 0, None])\n",
        "#Truck_list_table.plot.bar(x='Capacity in Tonne')"
      ],
      "execution_count": 12,
      "outputs": [
        {
          "output_type": "stream",
          "name": "stdout",
          "text": [
            "___Result :- \n",
            "\n",
            "Estimated Cost with no Vehicle Routing: 2367647243.0\n",
            "Estimated Cost with Vehicle Routing: 2242772400.0 \n",
            "\n",
            "Estimated Cost Savings with Vehicle Routing: 5.3 % \n",
            "\n",
            "No. of Trucks with no VR: 8823\n",
            "No. of Trucks with VR: 6902\n"
          ]
        },
        {
          "output_type": "stream",
          "name": "stderr",
          "text": [
            "/usr/local/lib/python3.7/dist-packages/ipykernel_launcher.py:45: FutureWarning: In a future version of pandas all arguments of DataFrame.drop except for the argument 'labels' will be keyword-only\n"
          ]
        }
      ]
    },
    {
      "cell_type": "code",
      "metadata": {
        "id": "rtNONez8g3-_"
      },
      "source": [
        "newdf = df.Cost_with_VR.resample('M').sum()"
      ],
      "execution_count": 13,
      "outputs": []
    },
    {
      "cell_type": "code",
      "metadata": {
        "id": "uoxV_t8minLu",
        "colab": {
          "base_uri": "https://localhost:8080/"
        },
        "outputId": "00379ca6-254e-4e40-f50e-b49ab5207b9f"
      },
      "source": [
        "newdf"
      ],
      "execution_count": 14,
      "outputs": [
        {
          "output_type": "execute_result",
          "data": {
            "text/plain": [
              "Date\n",
              "2019-11-30     53804670.6\n",
              "2019-12-31    185602113.7\n",
              "2020-01-31    197282516.5\n",
              "2020-02-29    178942407.8\n",
              "2020-03-31    188372451.7\n",
              "2020-04-30    182021474.4\n",
              "2020-05-31    175065746.4\n",
              "2020-06-30    193043913.7\n",
              "2020-07-31    189853964.7\n",
              "2020-08-31    194994840.0\n",
              "2020-09-30    182009960.3\n",
              "2020-10-31    189218638.9\n",
              "2020-11-30    132559701.2\n",
              "Freq: M, Name: Cost_with_VR, dtype: float64"
            ]
          },
          "metadata": {},
          "execution_count": 14
        }
      ]
    },
    {
      "cell_type": "code",
      "metadata": {
        "id": "Q1MV3vNyiwQ-",
        "colab": {
          "base_uri": "https://localhost:8080/"
        },
        "outputId": "98a07042-c0ca-47b0-fec9-3868e46e28df"
      },
      "source": [
        "newnowvr = df. \tCost_with_no_VR.resample('M').sum()\n",
        "newnowvr"
      ],
      "execution_count": 15,
      "outputs": [
        {
          "output_type": "execute_result",
          "data": {
            "text/plain": [
              "Date\n",
              "2019-11-30     57170698.7\n",
              "2019-12-31    197673692.0\n",
              "2020-01-31    210506605.0\n",
              "2020-02-29    187103340.9\n",
              "2020-03-31    200770018.8\n",
              "2020-04-30    193126571.2\n",
              "2020-05-31    182146259.2\n",
              "2020-06-30    203676263.5\n",
              "2020-07-31    199033826.3\n",
              "2020-08-31    206286303.7\n",
              "2020-09-30    193247104.6\n",
              "2020-10-31    198721232.0\n",
              "2020-11-30    138185326.9\n",
              "Freq: M, Name: Cost_with_no_VR, dtype: float64"
            ]
          },
          "metadata": {},
          "execution_count": 15
        }
      ]
    },
    {
      "cell_type": "code",
      "metadata": {
        "colab": {
          "base_uri": "https://localhost:8080/",
          "height": 312
        },
        "id": "aV9w6RIPi952",
        "outputId": "8143149a-70fd-4017-f291-06536c9cbe60"
      },
      "source": [
        "ax = plt.axes()\n",
        "# Setting the background color\n",
        "ax.set_facecolor(\"grey\")\n",
        "plt.plot(newnowvr, label = 'No VRP used', color = 'g')\n",
        "plt.plot(newdf, label = 'CW Algo. used', color = 'w')\n",
        "plt.legend()\n",
        "plt.title('Comparing monthly transportation cost with and without using CW algo.')\n",
        "plt.ylabel('Cost in X 10^8')\n",
        "plt.xlabel('Month')"
      ],
      "execution_count": 16,
      "outputs": [
        {
          "output_type": "execute_result",
          "data": {
            "text/plain": [
              "Text(0.5, 0, 'Month')"
            ]
          },
          "metadata": {},
          "execution_count": 16
        },
        {
          "output_type": "display_data",
          "data": {
            "text/plain": [
              "<Figure size 432x288 with 1 Axes>"
            ],
            "image/png": "[encoded data removed]"
          },
          "metadata": {
            "needs_background": "light"
          }
        }
      ]
    },
    {
      "cell_type": "code",
      "metadata": {
        "colab": {
          "base_uri": "https://localhost:8080/",
          "height": 175
        },
        "id": "Z-g0aw4XjAzm",
        "outputId": "b4151268-c43f-40d9-bdc2-7e04f91500a9"
      },
      "source": [
        "Truck_list_table"
      ],
      "execution_count": 17,
      "outputs": [
        {
          "output_type": "execute_result",
          "data": {
            "text/plain": [
              "              Name Capacity in Tonne       A  n  Truck count VR  \\\n",
              "0  D_22_Feet_truck                15  668.39  0            5129   \n",
              "1  C_19_Feet_truck                 7  382.15  0            1234   \n",
              "2  B_17_Feet_truck                 4  292.94  0             438   \n",
              "3  A_14_Feet_truck                 3  251.45  0             101   \n",
              "\n",
              "   Truck count no VR  \n",
              "0               3832  \n",
              "1               3219  \n",
              "2               1477  \n",
              "3                295  "
            ],
            "text/html": [
              "\n",
              "  <div id=\"df-7ab3f3df-a51e-44be-b4e7-1741b2731eaa\">\n",
              "    <div class=\"colab-df-container\">\n",
              "      <div>\n",
              "<style scoped>\n",
              "    .dataframe tbody tr th:only-of-type {\n",
              "        vertical-align: middle;\n",
              "    }\n",
              "\n",
              "    .dataframe tbody tr th {\n",
              "        vertical-align: top;\n",
              "    }\n",
              "\n",
              "    .dataframe thead th {\n",
              "        text-align: right;\n",
              "    }\n",
              "</style>\n",
              "<table border=\"1\" class=\"dataframe\">\n",
              "  <thead>\n",
              "    <tr style=\"text-align: right;\">\n",
              "      <th></th>\n",
              "      <th>Name</th>\n",
              "      <th>Capacity in Tonne</th>\n",
              "      <th>A</th>\n",
              "      <th>n</th>\n",
              "      <th>Truck count VR</th>\n",
              "      <th>Truck count no VR</th>\n",
              "    </tr>\n",
              "  </thead>\n",
              "  <tbody>\n",
              "    <tr>\n",
              "      <th>0</th>\n",
              "      <td>D_22_Feet_truck</td>\n",
              "      <td>15</td>\n",
              "      <td>668.39</td>\n",
              "      <td>0</td>\n",
              "      <td>5129</td>\n",
              "      <td>3832</td>\n",
              "    </tr>\n",
              "    <tr>\n",
              "      <th>1</th>\n",
              "      <td>C_19_Feet_truck</td>\n",
              "      <td>7</td>\n",
              "      <td>382.15</td>\n",
              "      <td>0</td>\n",
              "      <td>1234</td>\n",
              "      <td>3219</td>\n",
              "    </tr>\n",
              "    <tr>\n",
              "      <th>2</th>\n",
              "      <td>B_17_Feet_truck</td>\n",
              "      <td>4</td>\n",
              "      <td>292.94</td>\n",
              "      <td>0</td>\n",
              "      <td>438</td>\n",
              "      <td>1477</td>\n",
              "    </tr>\n",
              "    <tr>\n",
              "      <th>3</th>\n",
              "      <td>A_14_Feet_truck</td>\n",
              "      <td>3</td>\n",
              "      <td>251.45</td>\n",
              "      <td>0</td>\n",
              "      <td>101</td>\n",
              "      <td>295</td>\n",
              "    </tr>\n",
              "  </tbody>\n",
              "</table>\n",
              "</div>\n",
              "      <button class=\"colab-df-convert\" onclick=\"convertToInteractive('df-7ab3f3df-a51e-44be-b4e7-1741b2731eaa')\"\n",
              "              title=\"Convert this dataframe to an interactive table.\"\n",
              "              style=\"display:none;\">\n",
              "        \n",
              "  <svg xmlns=\"http://www.w3.org/2000/svg\" height=\"24px\"viewBox=\"0 0 24 24\"\n",
              "       width=\"24px\">\n",
              "    <path d=\"M0 0h24v24H0V0z\" fill=\"none\"/>\n",
              "    <path d=\"M18.56 5.44l.94 2.06.94-2.06 2.06-.94-2.06-.94-.94-2.06-.94 2.06-2.06.94zm-11 1L8.5 8.5l.94-2.06 2.06-.94-2.06-.94L8.5 2.5l-.94 2.06-2.06.94zm10 10l.94 2.06.94-2.06 2.06-.94-2.06-.94-.94-2.06-.94 2.06-2.06.94z\"/><path d=\"M17.41 7.96l-1.37-1.37c-.4-.4-.92-.59-1.43-.59-.52 0-1.04.2-1.43.59L10.3 9.45l-7.72 7.72c-.78.78-.78 2.05 0 2.83L4 21.41c.39.39.9.59 1.41.59.51 0 1.02-.2 1.41-.59l7.78-7.78 2.81-2.81c.8-.78.8-2.07 0-2.86zM5.41 20L4 18.59l7.72-7.72 1.47 1.35L5.41 20z\"/>\n",
              "  </svg>\n",
              "      </button>\n",
              "      \n",
              "  <style>\n",
              "    .colab-df-container {\n",
              "      display:flex;\n",
              "      flex-wrap:wrap;\n",
              "      gap: 12px;\n",
              "    }\n",
              "\n",
              "    .colab-df-convert {\n",
              "      background-color: #E8F0FE;\n",
              "      border: none;\n",
              "      border-radius: 50%;\n",
              "      cursor: pointer;\n",
              "      display: none;\n",
              "      fill: #1967D2;\n",
              "      height: 32px;\n",
              "      padding: 0 0 0 0;\n",
              "      width: 32px;\n",
              "    }\n",
              "\n",
              "    .colab-df-convert:hover {\n",
              "      background-color: #E2EBFA;\n",
              "      box-shadow: 0px 1px 2px rgba(60, 64, 67, 0.3), 0px 1px 3px 1px rgba(60, 64, 67, 0.15);\n",
              "      fill: #174EA6;\n",
              "    }\n",
              "\n",
              "    [theme=dark] .colab-df-convert {\n",
              "      background-color: #3B4455;\n",
              "      fill: #D2E3FC;\n",
              "    }\n",
              "\n",
              "    [theme=dark] .colab-df-convert:hover {\n",
              "      background-color: #434B5C;\n",
              "      box-shadow: 0px 1px 3px 1px rgba(0, 0, 0, 0.15);\n",
              "      filter: drop-shadow(0px 1px 2px rgba(0, 0, 0, 0.3));\n",
              "      fill: #FFFFFF;\n",
              "    }\n",
              "  </style>\n",
              "\n",
              "      <script>\n",
              "        const buttonEl =\n",
              "          document.querySelector('#df-7ab3f3df-a51e-44be-b4e7-1741b2731eaa button.colab-df-convert');\n",
              "        buttonEl.style.display =\n",
              "          google.colab.kernel.accessAllowed ? 'block' : 'none';\n",
              "\n",
              "        async function convertToInteractive(key) {\n",
              "          const element = document.querySelector('#df-7ab3f3df-a51e-44be-b4e7-1741b2731eaa');\n",
              "          const dataTable =\n",
              "            await google.colab.kernel.invokeFunction('convertToInteractive',\n",
              "                                                     [key], {});\n",
              "          if (!dataTable) return;\n",
              "\n",
              "          const docLinkHtml = 'Like what you see? Visit the ' +\n",
              "            '<a target=\"_blank\" href=https://colab.research.google.com/notebooks/data_table.ipynb>data table notebook</a>'\n",
              "            + ' to learn more about interactive tables.';\n",
              "          element.innerHTML = '';\n",
              "          dataTable['output_type'] = 'display_data';\n",
              "          await google.colab.output.renderOutput(dataTable, element);\n",
              "          const docLink = document.createElement('div');\n",
              "          docLink.innerHTML = docLinkHtml;\n",
              "          element.appendChild(docLink);\n",
              "        }\n",
              "      </script>\n",
              "    </div>\n",
              "  </div>\n",
              "  "
            ]
          },
          "metadata": {},
          "execution_count": 17
        }
      ]
    },
    {
      "cell_type": "code",
      "metadata": {
        "id": "n7xUQiehoTvN"
      },
      "source": [
        "df1 = pd.DataFrame()"
      ],
      "execution_count": 18,
      "outputs": []
    },
    {
      "cell_type": "code",
      "metadata": {
        "id": "PnDP81CuomRE"
      },
      "source": [
        "df1['Truck count with no vr'] = Truck_list_table['Truck count no VR']"
      ],
      "execution_count": 19,
      "outputs": []
    },
    {
      "cell_type": "code",
      "metadata": {
        "id": "xCrG5htkqABu"
      },
      "source": [
        "df1['Truck count with vr'] = Truck_list_table['Truck count VR']\n"
      ],
      "execution_count": 20,
      "outputs": []
    },
    {
      "cell_type": "code",
      "metadata": {
        "id": "xaL_bCXDqcz9"
      },
      "source": [
        "df1['Capacity of Truck'] = Truck_list_table['Capacity in Tonne']"
      ],
      "execution_count": 21,
      "outputs": []
    },
    {
      "cell_type": "code",
      "metadata": {
        "colab": {
          "base_uri": "https://localhost:8080/",
          "height": 175
        },
        "id": "p0c-uMnmqV70",
        "outputId": "cf7d4091-e3ab-4982-c2c9-6a1f17d3c358"
      },
      "source": [
        "df1"
      ],
      "execution_count": 22,
      "outputs": [
        {
          "output_type": "execute_result",
          "data": {
            "text/plain": [
              "   Truck count with no vr  Truck count with vr Capacity of Truck\n",
              "0                    3832                 5129                15\n",
              "1                    3219                 1234                 7\n",
              "2                    1477                  438                 4\n",
              "3                     295                  101                 3"
            ],
            "text/html": [
              "\n",
              "  <div id=\"df-16dd7047-9965-49e3-b909-bca081bf9d29\">\n",
              "    <div class=\"colab-df-container\">\n",
              "      <div>\n",
              "<style scoped>\n",
              "    .dataframe tbody tr th:only-of-type {\n",
              "        vertical-align: middle;\n",
              "    }\n",
              "\n",
              "    .dataframe tbody tr th {\n",
              "        vertical-align: top;\n",
              "    }\n",
              "\n",
              "    .dataframe thead th {\n",
              "        text-align: right;\n",
              "    }\n",
              "</style>\n",
              "<table border=\"1\" class=\"dataframe\">\n",
              "  <thead>\n",
              "    <tr style=\"text-align: right;\">\n",
              "      <th></th>\n",
              "      <th>Truck count with no vr</th>\n",
              "      <th>Truck count with vr</th>\n",
              "      <th>Capacity of Truck</th>\n",
              "    </tr>\n",
              "  </thead>\n",
              "  <tbody>\n",
              "    <tr>\n",
              "      <th>0</th>\n",
              "      <td>3832</td>\n",
              "      <td>5129</td>\n",
              "      <td>15</td>\n",
              "    </tr>\n",
              "    <tr>\n",
              "      <th>1</th>\n",
              "      <td>3219</td>\n",
              "      <td>1234</td>\n",
              "      <td>7</td>\n",
              "    </tr>\n",
              "    <tr>\n",
              "      <th>2</th>\n",
              "      <td>1477</td>\n",
              "      <td>438</td>\n",
              "      <td>4</td>\n",
              "    </tr>\n",
              "    <tr>\n",
              "      <th>3</th>\n",
              "      <td>295</td>\n",
              "      <td>101</td>\n",
              "      <td>3</td>\n",
              "    </tr>\n",
              "  </tbody>\n",
              "</table>\n",
              "</div>\n",
              "      <button class=\"colab-df-convert\" onclick=\"convertToInteractive('df-16dd7047-9965-49e3-b909-bca081bf9d29')\"\n",
              "              title=\"Convert this dataframe to an interactive table.\"\n",
              "              style=\"display:none;\">\n",
              "        \n",
              "  <svg xmlns=\"http://www.w3.org/2000/svg\" height=\"24px\"viewBox=\"0 0 24 24\"\n",
              "       width=\"24px\">\n",
              "    <path d=\"M0 0h24v24H0V0z\" fill=\"none\"/>\n",
              "    <path d=\"M18.56 5.44l.94 2.06.94-2.06 2.06-.94-2.06-.94-.94-2.06-.94 2.06-2.06.94zm-11 1L8.5 8.5l.94-2.06 2.06-.94-2.06-.94L8.5 2.5l-.94 2.06-2.06.94zm10 10l.94 2.06.94-2.06 2.06-.94-2.06-.94-.94-2.06-.94 2.06-2.06.94z\"/><path d=\"M17.41 7.96l-1.37-1.37c-.4-.4-.92-.59-1.43-.59-.52 0-1.04.2-1.43.59L10.3 9.45l-7.72 7.72c-.78.78-.78 2.05 0 2.83L4 21.41c.39.39.9.59 1.41.59.51 0 1.02-.2 1.41-.59l7.78-7.78 2.81-2.81c.8-.78.8-2.07 0-2.86zM5.41 20L4 18.59l7.72-7.72 1.47 1.35L5.41 20z\"/>\n",
              "  </svg>\n",
              "      </button>\n",
              "      \n",
              "  <style>\n",
              "    .colab-df-container {\n",
              "      display:flex;\n",
              "      flex-wrap:wrap;\n",
              "      gap: 12px;\n",
              "    }\n",
              "\n",
              "    .colab-df-convert {\n",
              "      background-color: #E8F0FE;\n",
              "      border: none;\n",
              "      border-radius: 50%;\n",
              "      cursor: pointer;\n",
              "      display: none;\n",
              "      fill: #1967D2;\n",
              "      height: 32px;\n",
              "      padding: 0 0 0 0;\n",
              "      width: 32px;\n",
              "    }\n",
              "\n",
              "    .colab-df-convert:hover {\n",
              "      background-color: #E2EBFA;\n",
              "      box-shadow: 0px 1px 2px rgba(60, 64, 67, 0.3), 0px 1px 3px 1px rgba(60, 64, 67, 0.15);\n",
              "      fill: #174EA6;\n",
              "    }\n",
              "\n",
              "    [theme=dark] .colab-df-convert {\n",
              "      background-color: #3B4455;\n",
              "      fill: #D2E3FC;\n",
              "    }\n",
              "\n",
              "    [theme=dark] .colab-df-convert:hover {\n",
              "      background-color: #434B5C;\n",
              "      box-shadow: 0px 1px 3px 1px rgba(0, 0, 0, 0.15);\n",
              "      filter: drop-shadow(0px 1px 2px rgba(0, 0, 0, 0.3));\n",
              "      fill: #FFFFFF;\n",
              "    }\n",
              "  </style>\n",
              "\n",
              "      <script>\n",
              "        const buttonEl =\n",
              "          document.querySelector('#df-16dd7047-9965-49e3-b909-bca081bf9d29 button.colab-df-convert');\n",
              "        buttonEl.style.display =\n",
              "          google.colab.kernel.accessAllowed ? 'block' : 'none';\n",
              "\n",
              "        async function convertToInteractive(key) {\n",
              "          const element = document.querySelector('#df-16dd7047-9965-49e3-b909-bca081bf9d29');\n",
              "          const dataTable =\n",
              "            await google.colab.kernel.invokeFunction('convertToInteractive',\n",
              "                                                     [key], {});\n",
              "          if (!dataTable) return;\n",
              "\n",
              "          const docLinkHtml = 'Like what you see? Visit the ' +\n",
              "            '<a target=\"_blank\" href=https://colab.research.google.com/notebooks/data_table.ipynb>data table notebook</a>'\n",
              "            + ' to learn more about interactive tables.';\n",
              "          element.innerHTML = '';\n",
              "          dataTable['output_type'] = 'display_data';\n",
              "          await google.colab.output.renderOutput(dataTable, element);\n",
              "          const docLink = document.createElement('div');\n",
              "          docLink.innerHTML = docLinkHtml;\n",
              "          element.appendChild(docLink);\n",
              "        }\n",
              "      </script>\n",
              "    </div>\n",
              "  </div>\n",
              "  "
            ]
          },
          "metadata": {},
          "execution_count": 22
        }
      ]
    },
    {
      "cell_type": "code",
      "metadata": {
        "colab": {
          "base_uri": "https://localhost:8080/",
          "height": 282
        },
        "id": "kbBBPaDsqtru",
        "outputId": "3cfac19e-dd5e-4cf3-e61c-92838a496a7b"
      },
      "source": [
        "\n",
        "df1.plot.bar(x='Capacity of Truck',color = ('g','w')).set_facecolor('grey')"
      ],
      "execution_count": 23,
      "outputs": [
        {
          "output_type": "display_data",
          "data": {
            "text/plain": [
              "<Figure size 432x288 with 1 Axes>"
            ],
            "image/png": "[encoded data removed]"
          },
          "metadata": {
            "needs_background": "light"
          }
        }
      ]
    },
    {
      "cell_type": "code",
      "metadata": {
        "id": "YauN_rzap2ZG",
        "colab": {
          "base_uri": "https://localhost:8080/"
        },
        "outputId": "c9407b87-beb6-4488-8a1f-857a3add9e30"
      },
      "source": [
        "df1['Truck count with no vr'].sum()"
      ],
      "execution_count": 24,
      "outputs": [
        {
          "output_type": "execute_result",
          "data": {
            "text/plain": [
              "8823"
            ]
          },
          "metadata": {},
          "execution_count": 24
        }
      ]
    },
    {
      "cell_type": "code",
      "metadata": {
        "colab": {
          "base_uri": "https://localhost:8080/"
        },
        "id": "Ifma-Eq7v1WZ",
        "outputId": "1050ea98-7009-40d1-b06e-02ca465e4249"
      },
      "source": [
        "df1['Truck count with vr'].sum()"
      ],
      "execution_count": 25,
      "outputs": [
        {
          "output_type": "execute_result",
          "data": {
            "text/plain": [
              "6902"
            ]
          },
          "metadata": {},
          "execution_count": 25
        }
      ]
    },
    {
      "cell_type": "code",
      "metadata": {
        "id": "SLVvsdh_v5C3",
        "colab": {
          "base_uri": "https://localhost:8080/",
          "height": 353
        },
        "outputId": "2c4e9986-002a-4263-a845-472e6116e0de"
      },
      "source": [
        "plt.figure(figsize = (10,5))\n",
        "plt.plot(city_display[:10],color = 'g')\n",
        "plt.title('Total demand of top 10 cities in a year')"
      ],
      "execution_count": 26,
      "outputs": [
        {
          "output_type": "execute_result",
          "data": {
            "text/plain": [
              "Text(0.5, 1.0, 'Total demand of top 10 cities in a year')"
            ]
          },
          "metadata": {},
          "execution_count": 26
        },
        {
          "output_type": "display_data",
          "data": {
            "text/plain": [
              "<Figure size 720x360 with 1 Axes>"
            ],
            "image/png": "[encoded data removed]"
          },
          "metadata": {
            "needs_background": "light"
          }
        }
      ]
    },
    {
      "cell_type": "code",
      "metadata": {
        "colab": {
          "base_uri": "https://localhost:8080/",
          "height": 353
        },
        "id": "8RAFI0b8JU5T",
        "outputId": "2e3f3d81-14cb-447f-d798-d678faebba7b"
      },
      "source": [
        "plt.figure(figsize = (10,5))\n",
        "plt.plot(city_display[-10:],color = 'g')\n",
        "plt.title('Total demand of lower 10 cities in a year')"
      ],
      "execution_count": 27,
      "outputs": [
        {
          "output_type": "execute_result",
          "data": {
            "text/plain": [
              "Text(0.5, 1.0, 'Total demand of lower 10 cities in a year')"
            ]
          },
          "metadata": {},
          "execution_count": 27
        },
        {
          "output_type": "display_data",
          "data": {
            "text/plain": [
              "<Figure size 720x360 with 1 Axes>"
            ],
            "image/png": "[encoded data removed]"
          },
          "metadata": {
            "needs_background": "light"
          }
        }
      ]
    },
    {
      "cell_type": "code",
      "metadata": {
        "id": "eZHN5QpvJim6"
      },
      "source": [
        ""
      ],
      "execution_count": 27,
      "outputs": []
    }
  ]
}